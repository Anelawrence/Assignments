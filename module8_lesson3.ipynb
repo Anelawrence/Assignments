{
  "cells": [
    {
      "cell_type": "code",
      "execution_count": 53,
      "metadata": {
        "colab": {
          "base_uri": "https://localhost:8080/"
        },
        "id": "3d494Ox5q5tM",
        "outputId": "20871b0b-0f24-45d8-ced6-4cdc8a71b2ee"
      },
      "outputs": [
        {
          "name": "stdout",
          "output_type": "stream",
          "text": [
            "Drive already mounted at /content/drive; to attempt to forcibly remount, call drive.mount(\"/content/drive\", force_remount=True).\n"
          ]
        }
      ],
      "source": [
        "from google.colab import drive\n",
        "drive.mount('/content/drive')"
      ]
    },
    {
      "cell_type": "code",
      "execution_count": 54,
      "metadata": {
        "colab": {
          "base_uri": "https://localhost:8080/"
        },
        "id": "7IcXBX82rTSp",
        "outputId": "ef20866e-046a-445a-c8c4-752e6f026e36"
      },
      "outputs": [
        {
          "name": "stdout",
          "output_type": "stream",
          "text": [
            "/content/drive/MyDrive/numpy_&_pandas_intro\n"
          ]
        }
      ],
      "source": [
        "%cd /content/drive/MyDrive/numpy_&_pandas_intro"
      ]
    },
    {
      "cell_type": "code",
      "execution_count": 1,
      "metadata": {
        "id": "fPiBzaGPsMOc"
      },
      "outputs": [],
      "source": [
        "import pandas as pd\n",
        "import numpy as np"
      ]
    },
    {
      "cell_type": "code",
      "execution_count": 3,
      "metadata": {
        "colab": {
          "base_uri": "https://localhost:8080/",
          "height": 702
        },
        "id": "I58jUz7ksTni",
        "outputId": "e289b6a7-542c-413b-a168-f00eb1d5296f"
      },
      "outputs": [
        {
          "data": {
            "text/html": [
              "<div>\n",
              "<style scoped>\n",
              "    .dataframe tbody tr th:only-of-type {\n",
              "        vertical-align: middle;\n",
              "    }\n",
              "\n",
              "    .dataframe tbody tr th {\n",
              "        vertical-align: top;\n",
              "    }\n",
              "\n",
              "    .dataframe thead th {\n",
              "        text-align: right;\n",
              "    }\n",
              "</style>\n",
              "<table border=\"1\" class=\"dataframe\">\n",
              "  <thead>\n",
              "    <tr style=\"text-align: right;\">\n",
              "      <th></th>\n",
              "      <th>MOVIES</th>\n",
              "      <th>YEAR</th>\n",
              "      <th>GENRE</th>\n",
              "      <th>RATING</th>\n",
              "      <th>ONE-LINE</th>\n",
              "      <th>STARS</th>\n",
              "      <th>VOTES</th>\n",
              "      <th>RunTime</th>\n",
              "      <th>Gross</th>\n",
              "    </tr>\n",
              "  </thead>\n",
              "  <tbody>\n",
              "    <tr>\n",
              "      <th>0</th>\n",
              "      <td>Blood Red Sky</td>\n",
              "      <td>(2021)</td>\n",
              "      <td>\\nAction, Horror, Thriller</td>\n",
              "      <td>6.1</td>\n",
              "      <td>\\nA woman with a mysterious illness is forced ...</td>\n",
              "      <td>\\n    Director:\\nPeter Thorwarth\\n| \\n    Star...</td>\n",
              "      <td>21,062</td>\n",
              "      <td>121.0</td>\n",
              "      <td>NaN</td>\n",
              "    </tr>\n",
              "    <tr>\n",
              "      <th>1</th>\n",
              "      <td>Masters of the Universe: Revelation</td>\n",
              "      <td>(2021– )</td>\n",
              "      <td>\\nAnimation, Action, Adventure</td>\n",
              "      <td>5.0</td>\n",
              "      <td>\\nThe war for Eternia begins again in what may...</td>\n",
              "      <td>\\n            \\n    Stars:\\nChris Wood, \\nSara...</td>\n",
              "      <td>17,870</td>\n",
              "      <td>25.0</td>\n",
              "      <td>NaN</td>\n",
              "    </tr>\n",
              "    <tr>\n",
              "      <th>2</th>\n",
              "      <td>The Walking Dead</td>\n",
              "      <td>(2010–2022)</td>\n",
              "      <td>\\nDrama, Horror, Thriller</td>\n",
              "      <td>8.2</td>\n",
              "      <td>\\nSheriff Deputy Rick Grimes wakes up from a c...</td>\n",
              "      <td>\\n            \\n    Stars:\\nAndrew Lincoln, \\n...</td>\n",
              "      <td>885,805</td>\n",
              "      <td>44.0</td>\n",
              "      <td>NaN</td>\n",
              "    </tr>\n",
              "    <tr>\n",
              "      <th>3</th>\n",
              "      <td>Rick and Morty</td>\n",
              "      <td>(2013– )</td>\n",
              "      <td>\\nAnimation, Adventure, Comedy</td>\n",
              "      <td>9.2</td>\n",
              "      <td>\\nAn animated series that follows the exploits...</td>\n",
              "      <td>\\n            \\n    Stars:\\nJustin Roiland, \\n...</td>\n",
              "      <td>414,849</td>\n",
              "      <td>23.0</td>\n",
              "      <td>NaN</td>\n",
              "    </tr>\n",
              "    <tr>\n",
              "      <th>4</th>\n",
              "      <td>Army of Thieves</td>\n",
              "      <td>(2021)</td>\n",
              "      <td>\\nAction, Crime, Horror</td>\n",
              "      <td>NaN</td>\n",
              "      <td>\\nA prequel, set before the events of Army of ...</td>\n",
              "      <td>\\n    Director:\\nMatthias Schweighöfer\\n| \\n  ...</td>\n",
              "      <td>NaN</td>\n",
              "      <td>NaN</td>\n",
              "      <td>NaN</td>\n",
              "    </tr>\n",
              "    <tr>\n",
              "      <th>5</th>\n",
              "      <td>Outer Banks</td>\n",
              "      <td>(2020– )</td>\n",
              "      <td>\\nAction, Crime, Drama</td>\n",
              "      <td>7.6</td>\n",
              "      <td>\\nA group of teenagers from the wrong side of ...</td>\n",
              "      <td>\\n            \\n    Stars:\\nChase Stokes, \\nMa...</td>\n",
              "      <td>25,858</td>\n",
              "      <td>50.0</td>\n",
              "      <td>NaN</td>\n",
              "    </tr>\n",
              "    <tr>\n",
              "      <th>6</th>\n",
              "      <td>The Last Letter from Your Lover</td>\n",
              "      <td>(2021)</td>\n",
              "      <td>\\nDrama, Romance</td>\n",
              "      <td>6.8</td>\n",
              "      <td>\\nA pair of interwoven stories set in the past...</td>\n",
              "      <td>\\n    Director:\\nAugustine Frizzell\\n| \\n    S...</td>\n",
              "      <td>5,283</td>\n",
              "      <td>110.0</td>\n",
              "      <td>NaN</td>\n",
              "    </tr>\n",
              "    <tr>\n",
              "      <th>7</th>\n",
              "      <td>Dexter</td>\n",
              "      <td>(2006–2013)</td>\n",
              "      <td>\\nCrime, Drama, Mystery</td>\n",
              "      <td>8.6</td>\n",
              "      <td>\\nBy day, mild-mannered Dexter is a blood-spat...</td>\n",
              "      <td>\\n            \\n    Stars:\\nMichael C. Hall, \\...</td>\n",
              "      <td>665,387</td>\n",
              "      <td>53.0</td>\n",
              "      <td>NaN</td>\n",
              "    </tr>\n",
              "    <tr>\n",
              "      <th>8</th>\n",
              "      <td>Never Have I Ever</td>\n",
              "      <td>(2020– )</td>\n",
              "      <td>\\nComedy</td>\n",
              "      <td>7.9</td>\n",
              "      <td>\\nThe complicated life of a modern-day first g...</td>\n",
              "      <td>\\n            \\n    Stars:\\nMaitreyi Ramakrish...</td>\n",
              "      <td>34,530</td>\n",
              "      <td>30.0</td>\n",
              "      <td>NaN</td>\n",
              "    </tr>\n",
              "    <tr>\n",
              "      <th>9</th>\n",
              "      <td>Virgin River</td>\n",
              "      <td>(2019– )</td>\n",
              "      <td>\\nDrama, Romance</td>\n",
              "      <td>7.4</td>\n",
              "      <td>\\nSeeking a fresh start, nurse practitioner Me...</td>\n",
              "      <td>\\n            \\n    Stars:\\nAlexandra Breckenr...</td>\n",
              "      <td>27,279</td>\n",
              "      <td>44.0</td>\n",
              "      <td>NaN</td>\n",
              "    </tr>\n",
              "  </tbody>\n",
              "</table>\n",
              "</div>"
            ],
            "text/plain": [
              "                                MOVIES         YEAR  \\\n",
              "0                        Blood Red Sky       (2021)   \n",
              "1  Masters of the Universe: Revelation     (2021– )   \n",
              "2                     The Walking Dead  (2010–2022)   \n",
              "3                       Rick and Morty     (2013– )   \n",
              "4                      Army of Thieves       (2021)   \n",
              "5                          Outer Banks     (2020– )   \n",
              "6      The Last Letter from Your Lover       (2021)   \n",
              "7                               Dexter  (2006–2013)   \n",
              "8                    Never Have I Ever     (2020– )   \n",
              "9                         Virgin River     (2019– )   \n",
              "\n",
              "                                        GENRE  RATING  \\\n",
              "0      \\nAction, Horror, Thriller                 6.1   \n",
              "1  \\nAnimation, Action, Adventure                 5.0   \n",
              "2       \\nDrama, Horror, Thriller                 8.2   \n",
              "3  \\nAnimation, Adventure, Comedy                 9.2   \n",
              "4         \\nAction, Crime, Horror                 NaN   \n",
              "5          \\nAction, Crime, Drama                 7.6   \n",
              "6                \\nDrama, Romance                 6.8   \n",
              "7         \\nCrime, Drama, Mystery                 8.6   \n",
              "8                        \\nComedy                 7.9   \n",
              "9                \\nDrama, Romance                 7.4   \n",
              "\n",
              "                                            ONE-LINE  \\\n",
              "0  \\nA woman with a mysterious illness is forced ...   \n",
              "1  \\nThe war for Eternia begins again in what may...   \n",
              "2  \\nSheriff Deputy Rick Grimes wakes up from a c...   \n",
              "3  \\nAn animated series that follows the exploits...   \n",
              "4  \\nA prequel, set before the events of Army of ...   \n",
              "5  \\nA group of teenagers from the wrong side of ...   \n",
              "6  \\nA pair of interwoven stories set in the past...   \n",
              "7  \\nBy day, mild-mannered Dexter is a blood-spat...   \n",
              "8  \\nThe complicated life of a modern-day first g...   \n",
              "9  \\nSeeking a fresh start, nurse practitioner Me...   \n",
              "\n",
              "                                               STARS    VOTES  RunTime Gross  \n",
              "0  \\n    Director:\\nPeter Thorwarth\\n| \\n    Star...   21,062    121.0   NaN  \n",
              "1  \\n            \\n    Stars:\\nChris Wood, \\nSara...   17,870     25.0   NaN  \n",
              "2  \\n            \\n    Stars:\\nAndrew Lincoln, \\n...  885,805     44.0   NaN  \n",
              "3  \\n            \\n    Stars:\\nJustin Roiland, \\n...  414,849     23.0   NaN  \n",
              "4  \\n    Director:\\nMatthias Schweighöfer\\n| \\n  ...      NaN      NaN   NaN  \n",
              "5  \\n            \\n    Stars:\\nChase Stokes, \\nMa...   25,858     50.0   NaN  \n",
              "6  \\n    Director:\\nAugustine Frizzell\\n| \\n    S...    5,283    110.0   NaN  \n",
              "7  \\n            \\n    Stars:\\nMichael C. Hall, \\...  665,387     53.0   NaN  \n",
              "8  \\n            \\n    Stars:\\nMaitreyi Ramakrish...   34,530     30.0   NaN  \n",
              "9  \\n            \\n    Stars:\\nAlexandra Breckenr...   27,279     44.0   NaN  "
            ]
          },
          "execution_count": 3,
          "metadata": {},
          "output_type": "execute_result"
        }
      ],
      "source": [
        "df = pd.read_csv('movies.csv')\n",
        "df.head(10)"
      ]
    },
    {
      "cell_type": "code",
      "execution_count": 4,
      "metadata": {
        "colab": {
          "base_uri": "https://localhost:8080/"
        },
        "id": "F-asU5hKtXa5",
        "outputId": "6709c2b8-78fd-4769-a8d8-e4aac27afb1b"
      },
      "outputs": [
        {
          "data": {
            "text/plain": [
              "MOVIES         0\n",
              "YEAR         644\n",
              "GENRE         80\n",
              "RATING      1820\n",
              "ONE-LINE       0\n",
              "STARS          0\n",
              "VOTES       1820\n",
              "RunTime     2958\n",
              "Gross       9539\n",
              "dtype: int64"
            ]
          },
          "execution_count": 4,
          "metadata": {},
          "output_type": "execute_result"
        }
      ],
      "source": [
        "#Checking for missing values\n",
        "df.isnull().any()\n",
        "df.isnull().sum()"
      ]
    },
    {
      "cell_type": "code",
      "execution_count": 5,
      "metadata": {
        "colab": {
          "base_uri": "https://localhost:8080/"
        },
        "id": "4xK9NtpJSHLy",
        "outputId": "0b79fd2d-bad9-488e-dc0a-ac09ce170fa5"
      },
      "outputs": [
        {
          "data": {
            "text/plain": [
              "24.0     354\n",
              "60.0     299\n",
              "30.0     219\n",
              "23.0     183\n",
              "25.0     180\n",
              "        ... \n",
              "542.0      1\n",
              "629.0      1\n",
              "498.0      1\n",
              "189.0      1\n",
              "165.0      1\n",
              "Name: RunTime, Length: 261, dtype: int64"
            ]
          },
          "execution_count": 5,
          "metadata": {},
          "output_type": "execute_result"
        }
      ],
      "source": [
        "df['RunTime'].value_counts()"
      ]
    },
    {
      "cell_type": "code",
      "execution_count": 6,
      "metadata": {
        "colab": {
          "base_uri": "https://localhost:8080/"
        },
        "id": "e7ebPjkQUltY",
        "outputId": "714c749a-2aa6-49ca-8904-0a9d576871fa"
      },
      "outputs": [
        {
          "data": {
            "text/plain": [
              "MOVIES         0\n",
              "YEAR           0\n",
              "GENRE         11\n",
              "RATING         0\n",
              "ONE-LINE       0\n",
              "STARS          0\n",
              "VOTES          0\n",
              "RunTime     1393\n",
              "Gross       7719\n",
              "dtype: int64"
            ]
          },
          "execution_count": 6,
          "metadata": {},
          "output_type": "execute_result"
        }
      ],
      "source": [
        "# Drop null values for 'RATING' column\n",
        "df = df.dropna(axis=0, how='any', subset=['RATING'])\n",
        "df.isnull().sum()"
      ]
    },
    {
      "cell_type": "code",
      "execution_count": 7,
      "metadata": {
        "id": "G3sF8NGxAFIO"
      },
      "outputs": [],
      "source": [
        "#Check for duplicate values\n",
        "df.duplicated()\n",
        "\n",
        "#Remove duplicate for the row. keeping the first row\n",
        "df = df.drop_duplicates()"
      ]
    },
    {
      "cell_type": "code",
      "execution_count": 61,
      "metadata": {
        "colab": {
          "base_uri": "https://localhost:8080/"
        },
        "id": "bXIIR7fmt5B6",
        "outputId": "05fac2fa-0611-4e73-8c3c-57ac5d366fe6"
      },
      "outputs": [
        {
          "data": {
            "text/plain": [
              "MOVIES       object\n",
              "YEAR         object\n",
              "GENRE        object\n",
              "RATING      float64\n",
              "ONE-LINE     object\n",
              "STARS        object\n",
              "VOTES        object\n",
              "RunTime     float64\n",
              "Gross        object\n",
              "dtype: object"
            ]
          },
          "execution_count": 61,
          "metadata": {},
          "output_type": "execute_result"
        }
      ],
      "source": [
        "df.dtypes"
      ]
    },
    {
      "cell_type": "code",
      "execution_count": 8,
      "metadata": {
        "id": "ALBV4sN8yFrF"
      },
      "outputs": [],
      "source": [
        "# Removing commas in the numbers from the \"VOTES\" column to make it convertable to float.\n",
        "\n",
        "df[\"VOTES\"] = df[\"VOTES\"].astype(str)\n",
        "df[\"VOTES\"] = [x.replace(',','') for x in df[\"VOTES\"]]"
      ]
    },
    {
      "cell_type": "code",
      "execution_count": 9,
      "metadata": {
        "colab": {
          "base_uri": "https://localhost:8080/"
        },
        "id": "WdUVx9Ry-9fd",
        "outputId": "47c15077-29ff-4882-fe3c-d1e6ebc17b60"
      },
      "outputs": [
        {
          "data": {
            "text/plain": [
              "MOVIES       object\n",
              "YEAR         object\n",
              "GENRE        object\n",
              "RATING      float64\n",
              "ONE-LINE     object\n",
              "STARS        object\n",
              "VOTES       float64\n",
              "RunTime     float64\n",
              "Gross        object\n",
              "dtype: object"
            ]
          },
          "execution_count": 9,
          "metadata": {},
          "output_type": "execute_result"
        }
      ],
      "source": [
        "# convert \"VOTES\" from string to float\n",
        "df['VOTES'] = df['VOTES'].astype(float)\n",
        "df.dtypes"
      ]
    },
    {
      "cell_type": "code",
      "execution_count": 10,
      "metadata": {
        "colab": {
          "base_uri": "https://localhost:8080/",
          "height": 143
        },
        "id": "jYBaPuRp_bd1",
        "outputId": "c8cf763a-a1a2-46d2-c5c0-f7689e53ff9f"
      },
      "outputs": [
        {
          "data": {
            "text/html": [
              "<div>\n",
              "<style scoped>\n",
              "    .dataframe tbody tr th:only-of-type {\n",
              "        vertical-align: middle;\n",
              "    }\n",
              "\n",
              "    .dataframe tbody tr th {\n",
              "        vertical-align: top;\n",
              "    }\n",
              "\n",
              "    .dataframe thead th {\n",
              "        text-align: right;\n",
              "    }\n",
              "</style>\n",
              "<table border=\"1\" class=\"dataframe\">\n",
              "  <thead>\n",
              "    <tr style=\"text-align: right;\">\n",
              "      <th></th>\n",
              "      <th>RATING</th>\n",
              "      <th>VOTES</th>\n",
              "      <th>RunTime</th>\n",
              "    </tr>\n",
              "  </thead>\n",
              "  <tbody>\n",
              "    <tr>\n",
              "      <th>RATING</th>\n",
              "      <td>1.000000</td>\n",
              "      <td>0.103792</td>\n",
              "      <td>-0.223826</td>\n",
              "    </tr>\n",
              "    <tr>\n",
              "      <th>VOTES</th>\n",
              "      <td>0.103792</td>\n",
              "      <td>1.000000</td>\n",
              "      <td>0.143464</td>\n",
              "    </tr>\n",
              "    <tr>\n",
              "      <th>RunTime</th>\n",
              "      <td>-0.223826</td>\n",
              "      <td>0.143464</td>\n",
              "      <td>1.000000</td>\n",
              "    </tr>\n",
              "  </tbody>\n",
              "</table>\n",
              "</div>"
            ],
            "text/plain": [
              "           RATING     VOTES   RunTime\n",
              "RATING   1.000000  0.103792 -0.223826\n",
              "VOTES    0.103792  1.000000  0.143464\n",
              "RunTime -0.223826  0.143464  1.000000"
            ]
          },
          "execution_count": 10,
          "metadata": {},
          "output_type": "execute_result"
        }
      ],
      "source": [
        "df.corr()"
      ]
    },
    {
      "cell_type": "code",
      "execution_count": 11,
      "metadata": {
        "id": "8HNcOLViXtHz"
      },
      "outputs": [],
      "source": [
        "# Fillna for 'RunTime' column using the mean\n",
        "x = df['RunTime'].mean()\n",
        "df['RunTime'].fillna(x, inplace=True)"
      ]
    },
    {
      "cell_type": "code",
      "execution_count": 12,
      "metadata": {
        "id": "wSJT_Kh4agKO"
      },
      "outputs": [],
      "source": [
        "# Removing '\\n' in the numbers from the \"GENRE\" column.\n",
        "\n",
        "df[\"GENRE\"] = df[\"GENRE\"].astype(str)\n",
        "df[\"GENRE\"] = [x.replace('\\n','') for x in df[\"GENRE\"]]"
      ]
    },
    {
      "cell_type": "code",
      "execution_count": 13,
      "metadata": {
        "id": "OIhmHB04dZ0i"
      },
      "outputs": [],
      "source": [
        "# Removing '\\n' in the numbers from the \"ONE-LINE\" column.\n",
        "\n",
        "df[\"ONE-LINE\"] = df[\"ONE-LINE\"].astype(str)\n",
        "df[\"ONE-LINE\"] = [x.replace('\\n','') for x in df[\"ONE-LINE\"]]"
      ]
    },
    {
      "cell_type": "code",
      "execution_count": 14,
      "metadata": {
        "id": "QPhPWWmrdzhy"
      },
      "outputs": [],
      "source": [
        "# Removing '\\n' in the numbers from the \"STARS\" column.\n",
        "\n",
        "df[\"STARS\"] = df[\"STARS\"].astype(str)\n",
        "df[\"STARS\"] = [x.replace('\\n','') for x in df[\"STARS\"]]"
      ]
    },
    {
      "cell_type": "code",
      "execution_count": 15,
      "metadata": {
        "colab": {
          "base_uri": "https://localhost:8080/"
        },
        "id": "cYj3oXL6_fx7",
        "outputId": "3a8fb49b-03d2-4cb5-8329-03ef760b13ba"
      },
      "outputs": [
        {
          "data": {
            "text/plain": [
              "Comedy                                        740\n",
              "Animation, Action, Adventure                  601\n",
              "Documentary                                   444\n",
              "Drama                                         427\n",
              "Crime, Drama, Mystery                         292\n",
              "                                             ... \n",
              "Action, Mystery, Romance                        1\n",
              "Short, Crime, Drama                             1\n",
              "Short, Action, Adventure                        1\n",
              "Documentary, Animation, Sci-Fi                  1\n",
              "Documentary, Action, Crime                      1\n",
              "Name: GENRE, Length: 485, dtype: int64"
            ]
          },
          "execution_count": 15,
          "metadata": {},
          "output_type": "execute_result"
        }
      ],
      "source": [
        "df['GENRE'].value_counts()"
      ]
    },
    {
      "cell_type": "code",
      "execution_count": 16,
      "metadata": {
        "id": "I0FIqebQZJJh"
      },
      "outputs": [],
      "source": [
        "# Fillna for 'GENRE' column with 'Comedy'\n",
        "df['GENRE'].fillna('Comedy', inplace=True)"
      ]
    },
    {
      "cell_type": "code",
      "execution_count": 17,
      "metadata": {
        "colab": {
          "base_uri": "https://localhost:8080/"
        },
        "id": "WQQ4_ak5YrpA",
        "outputId": "5e9719ac-ce01-4bd8-b17b-412b0eb2f562"
      },
      "outputs": [
        {
          "data": {
            "text/plain": [
              "MOVIES         0\n",
              "YEAR           0\n",
              "GENRE          0\n",
              "RATING         0\n",
              "ONE-LINE       0\n",
              "STARS          0\n",
              "VOTES          0\n",
              "RunTime        0\n",
              "Gross       7708\n",
              "dtype: int64"
            ]
          },
          "execution_count": 17,
          "metadata": {},
          "output_type": "execute_result"
        }
      ],
      "source": [
        "df.isnull().sum()"
      ]
    },
    {
      "cell_type": "code",
      "execution_count": 18,
      "metadata": {
        "colab": {
          "base_uri": "https://localhost:8080/"
        },
        "id": "d-dS1CQabd8-",
        "outputId": "afbb984b-56be-4c0c-f064-3ad5767affe6"
      },
      "outputs": [
        {
          "data": {
            "text/plain": [
              "$0.01M     22\n",
              "$0.02M     16\n",
              "$0.00M     15\n",
              "$0.03M     10\n",
              "$0.04M      9\n",
              "           ..\n",
              "$37.77M     1\n",
              "$44.82M     1\n",
              "$21.36M     1\n",
              "$54.76M     1\n",
              "$10.40M     1\n",
              "Name: Gross, Length: 332, dtype: int64"
            ]
          },
          "execution_count": 18,
          "metadata": {},
          "output_type": "execute_result"
        }
      ],
      "source": [
        "df['Gross'].value_counts()"
      ]
    },
    {
      "cell_type": "code",
      "execution_count": 21,
      "metadata": {
        "id": "rZ5W5op1cE1M"
      },
      "outputs": [],
      "source": [
        "# Drop 'Gross' column\n",
        "clean_df = df.drop(['Gross'], axis=1)"
      ]
    },
    {
      "cell_type": "code",
      "execution_count": 20,
      "metadata": {
        "colab": {
          "base_uri": "https://localhost:8080/",
          "height": 354
        },
        "id": "vtYb01wec_L8",
        "outputId": "f0094fd6-c785-4afa-a8d0-43da6c7eab90"
      },
      "outputs": [
        {
          "data": {
            "text/html": [
              "<div>\n",
              "<style scoped>\n",
              "    .dataframe tbody tr th:only-of-type {\n",
              "        vertical-align: middle;\n",
              "    }\n",
              "\n",
              "    .dataframe tbody tr th {\n",
              "        vertical-align: top;\n",
              "    }\n",
              "\n",
              "    .dataframe thead th {\n",
              "        text-align: right;\n",
              "    }\n",
              "</style>\n",
              "<table border=\"1\" class=\"dataframe\">\n",
              "  <thead>\n",
              "    <tr style=\"text-align: right;\">\n",
              "      <th></th>\n",
              "      <th>MOVIES</th>\n",
              "      <th>YEAR</th>\n",
              "      <th>GENRE</th>\n",
              "      <th>RATING</th>\n",
              "      <th>ONE-LINE</th>\n",
              "      <th>STARS</th>\n",
              "      <th>VOTES</th>\n",
              "      <th>RunTime</th>\n",
              "    </tr>\n",
              "  </thead>\n",
              "  <tbody>\n",
              "    <tr>\n",
              "      <th>0</th>\n",
              "      <td>Blood Red Sky</td>\n",
              "      <td>(2021)</td>\n",
              "      <td>Action, Horror, Thriller</td>\n",
              "      <td>6.1</td>\n",
              "      <td>A woman with a mysterious illness is forced in...</td>\n",
              "      <td>Director:Peter Thorwarth|     Stars:Peri B...</td>\n",
              "      <td>21062.0</td>\n",
              "      <td>121.0</td>\n",
              "    </tr>\n",
              "    <tr>\n",
              "      <th>1</th>\n",
              "      <td>Masters of the Universe: Revelation</td>\n",
              "      <td>(2021– )</td>\n",
              "      <td>Animation, Action, Adventure</td>\n",
              "      <td>5.0</td>\n",
              "      <td>The war for Eternia begins again in what may b...</td>\n",
              "      <td>Stars:Chris Wood, Sarah Michel...</td>\n",
              "      <td>17870.0</td>\n",
              "      <td>25.0</td>\n",
              "    </tr>\n",
              "    <tr>\n",
              "      <th>2</th>\n",
              "      <td>The Walking Dead</td>\n",
              "      <td>(2010–2022)</td>\n",
              "      <td>Drama, Horror, Thriller</td>\n",
              "      <td>8.2</td>\n",
              "      <td>Sheriff Deputy Rick Grimes wakes up from a com...</td>\n",
              "      <td>Stars:Andrew Lincoln, Norman R...</td>\n",
              "      <td>885805.0</td>\n",
              "      <td>44.0</td>\n",
              "    </tr>\n",
              "    <tr>\n",
              "      <th>3</th>\n",
              "      <td>Rick and Morty</td>\n",
              "      <td>(2013– )</td>\n",
              "      <td>Animation, Adventure, Comedy</td>\n",
              "      <td>9.2</td>\n",
              "      <td>An animated series that follows the exploits o...</td>\n",
              "      <td>Stars:Justin Roiland, Chris Pa...</td>\n",
              "      <td>414849.0</td>\n",
              "      <td>23.0</td>\n",
              "    </tr>\n",
              "    <tr>\n",
              "      <th>5</th>\n",
              "      <td>Outer Banks</td>\n",
              "      <td>(2020– )</td>\n",
              "      <td>Action, Crime, Drama</td>\n",
              "      <td>7.6</td>\n",
              "      <td>A group of teenagers from the wrong side of th...</td>\n",
              "      <td>Stars:Chase Stokes, Madelyn Cl...</td>\n",
              "      <td>25858.0</td>\n",
              "      <td>50.0</td>\n",
              "    </tr>\n",
              "  </tbody>\n",
              "</table>\n",
              "</div>"
            ],
            "text/plain": [
              "                                MOVIES         YEAR  \\\n",
              "0                        Blood Red Sky       (2021)   \n",
              "1  Masters of the Universe: Revelation     (2021– )   \n",
              "2                     The Walking Dead  (2010–2022)   \n",
              "3                       Rick and Morty     (2013– )   \n",
              "5                          Outer Banks     (2020– )   \n",
              "\n",
              "                                      GENRE  RATING  \\\n",
              "0      Action, Horror, Thriller                 6.1   \n",
              "1  Animation, Action, Adventure                 5.0   \n",
              "2       Drama, Horror, Thriller                 8.2   \n",
              "3  Animation, Adventure, Comedy                 9.2   \n",
              "5          Action, Crime, Drama                 7.6   \n",
              "\n",
              "                                            ONE-LINE  \\\n",
              "0  A woman with a mysterious illness is forced in...   \n",
              "1  The war for Eternia begins again in what may b...   \n",
              "2  Sheriff Deputy Rick Grimes wakes up from a com...   \n",
              "3  An animated series that follows the exploits o...   \n",
              "5  A group of teenagers from the wrong side of th...   \n",
              "\n",
              "                                               STARS     VOTES  RunTime  \n",
              "0      Director:Peter Thorwarth|     Stars:Peri B...   21062.0    121.0  \n",
              "1                  Stars:Chris Wood, Sarah Michel...   17870.0     25.0  \n",
              "2                  Stars:Andrew Lincoln, Norman R...  885805.0     44.0  \n",
              "3                  Stars:Justin Roiland, Chris Pa...  414849.0     23.0  \n",
              "5                  Stars:Chase Stokes, Madelyn Cl...   25858.0     50.0  "
            ]
          },
          "execution_count": 20,
          "metadata": {},
          "output_type": "execute_result"
        }
      ],
      "source": [
        "clean_df.head()"
      ]
    }
  ],
  "metadata": {
    "colab": {
      "name": "module8_lesson3.ipynb",
      "provenance": []
    },
    "kernelspec": {
      "display_name": "Python 3.9.1 ('.venv': venv)",
      "language": "python",
      "name": "python3"
    },
    "language_info": {
      "codemirror_mode": {
        "name": "ipython",
        "version": 3
      },
      "file_extension": ".py",
      "mimetype": "text/x-python",
      "name": "python",
      "nbconvert_exporter": "python",
      "pygments_lexer": "ipython3",
      "version": "3.9.1"
    },
    "vscode": {
      "interpreter": {
        "hash": "62cff82d7a13317d20a8fbccb561d24121b4a851829e91aaa015352745184c7c"
      }
    }
  },
  "nbformat": 4,
  "nbformat_minor": 0
}
